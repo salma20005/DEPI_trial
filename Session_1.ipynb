{
 "cells": [
  {
   "cell_type": "markdown",
   "id": "4852a757-b6c6-4103-badd-34e5bba9fd10",
   "metadata": {},
   "source": [
    "# **Welcome Depi Round 2**\n"
   ]
  },
  {
   "cell_type": "markdown",
   "id": "587f679e-cb99-40d0-9788-fd5d4d302614",
   "metadata": {},
   "source": [
    "**online group**"
   ]
  },
  {
   "cell_type": "markdown",
   "id": "5bc52c7d-a0ed-475e-91f1-e825dee60470",
   "metadata": {},
   "source": [
    "# **IBM Data Science**"
   ]
  },
  {
   "cell_type": "markdown",
   "id": "700f85cb-23f6-45e3-9ec6-fcd0b5d65b8f",
   "metadata": {},
   "source": [
    "By Salma Yasser"
   ]
  },
  {
   "cell_type": "markdown",
   "id": "a777b499-2865-42d3-8163-c60b94c0d457",
   "metadata": {},
   "source": [
    "- Week 1\n",
    "  - Week 2\n"
   ]
  },
  {
   "cell_type": "markdown",
   "id": "9fa2b6c1-5a79-49bd-b52c-88f428011dba",
   "metadata": {},
   "source": [
    "❤️"
   ]
  },
  {
   "cell_type": "code",
   "execution_count": 19,
   "id": "2ec37765-be7b-41e8-8cbd-4ccb29b184e1",
   "metadata": {},
   "outputs": [
    {
     "name": "stdout",
     "output_type": "stream",
     "text": [
      "15\n"
     ]
    }
   ],
   "source": [
    "print(5*3)"
   ]
  },
  {
   "cell_type": "raw",
   "id": "9f37415d-ab53-49fa-b713-000710784747",
   "metadata": {},
   "source": [
    "the result of multi is 15"
   ]
  },
  {
   "cell_type": "code",
   "execution_count": null,
   "id": "2fa2cf3b-5a56-4f05-b7f5-a069dfbc4775",
   "metadata": {},
   "outputs": [],
   "source": []
  }
 ],
 "metadata": {
  "kernelspec": {
   "display_name": "Python 3 (ipykernel)",
   "language": "python",
   "name": "python3"
  },
  "language_info": {
   "codemirror_mode": {
    "name": "ipython",
    "version": 3
   },
   "file_extension": ".py",
   "mimetype": "text/x-python",
   "name": "python",
   "nbconvert_exporter": "python",
   "pygments_lexer": "ipython3",
   "version": "3.12.7"
  }
 },
 "nbformat": 4,
 "nbformat_minor": 5
}
